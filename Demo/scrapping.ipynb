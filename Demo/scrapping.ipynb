{
 "cells": [
  {
   "attachments": {},
   "cell_type": "markdown",
   "metadata": {},
   "source": [
    "# Import Libraries"
   ]
  },
  {
   "cell_type": "code",
   "execution_count": 1,
   "metadata": {},
   "outputs": [],
   "source": [
    "import os\n",
    "from time import sleep\n",
    "import pandas as pd\n",
    "import numpy as np\n",
    "from bs4 import BeautifulSoup as bs\n",
    "import requests\n",
    "import pickle"
   ]
  },
  {
   "attachments": {},
   "cell_type": "markdown",
   "metadata": {},
   "source": [
    "# Function to get information of house"
   ]
  },
  {
   "cell_type": "code",
   "execution_count": 2,
   "metadata": {},
   "outputs": [],
   "source": [
    "def get_infos(house_soup):\n",
    "    location = house_soup.find(class_ = \"address\").get_text()[2:-2]\n",
    "    features = house_soup.find_all(class_ = \"value\")\n",
    "    house_info = dict()\n",
    "    house_info['Location'] = location\n",
    "    for idx in range(len(features)):\n",
    "        house_info['Feature ' + str(idx + 1)] = features[idx].get_text()[2:-2]\n",
    "    return house_info"
   ]
  },
  {
   "attachments": {},
   "cell_type": "markdown",
   "metadata": {},
   "source": [
    "# Crawling data to get 10 samples"
   ]
  },
  {
   "cell_type": "code",
   "execution_count": 3,
   "metadata": {},
   "outputs": [],
   "source": [
    "rq = requests.get(\"https://sosanhnha.com/search?iCat=57&iCitId=13326&iDisId=0&iWardId=0&iPrice=0&keyword=&page=1\")\n",
    "page_soup = bs(rq.text, 'html.parser')\n",
    "houses = page_soup.find_all(class_ = \"name\", href=True)"
   ]
  },
  {
   "cell_type": "code",
   "execution_count": 4,
   "metadata": {},
   "outputs": [],
   "source": [
    "house_infos = list()\n",
    "\n",
    "for idx in range(len(houses)):\n",
    "    house_page = requests.get(\"https://sosanhnha.com/\" + houses[idx]['href'])\n",
    "    house_soup = bs(house_page.text, 'html.parser')\n",
    "    try: \n",
    "        house_infos.append(get_infos(house_soup))\n",
    "    except: continue\n",
    "    if(len(house_infos) == 10):\n",
    "        break\n"
   ]
  },
  {
   "attachments": {},
   "cell_type": "markdown",
   "metadata": {},
   "source": [
    "# Result Display"
   ]
  },
  {
   "cell_type": "code",
   "execution_count": 5,
   "metadata": {},
   "outputs": [
    {
     "data": {
      "text/html": [
       "<div>\n",
       "<style scoped>\n",
       "    .dataframe tbody tr th:only-of-type {\n",
       "        vertical-align: middle;\n",
       "    }\n",
       "\n",
       "    .dataframe tbody tr th {\n",
       "        vertical-align: top;\n",
       "    }\n",
       "\n",
       "    .dataframe thead th {\n",
       "        text-align: right;\n",
       "    }\n",
       "</style>\n",
       "<table border=\"1\" class=\"dataframe\">\n",
       "  <thead>\n",
       "    <tr style=\"text-align: right;\">\n",
       "      <th></th>\n",
       "      <th>Location</th>\n",
       "      <th>Feature 1</th>\n",
       "      <th>Feature 2</th>\n",
       "      <th>Feature 3</th>\n",
       "      <th>Feature 4</th>\n",
       "      <th>Feature 5</th>\n",
       "      <th>Feature 6</th>\n",
       "    </tr>\n",
       "  </thead>\n",
       "  <tbody>\n",
       "    <tr>\n",
       "      <th>0</th>\n",
       "      <td>Lê Thanh Nghị</td>\n",
       "      <td>20 triệu/tháng</td>\n",
       "      <td>70 m²</td>\n",
       "      <td>7 PN</td>\n",
       "      <td>4 PT</td>\n",
       "      <td>25370051</td>\n",
       "      <td>17/05/2023</td>\n",
       "    </tr>\n",
       "    <tr>\n",
       "      <th>1</th>\n",
       "      <td>Ngô Thị Liễu</td>\n",
       "      <td>12 triệu/tháng</td>\n",
       "      <td>90 m²</td>\n",
       "      <td>5 PN</td>\n",
       "      <td>3 PT</td>\n",
       "      <td>25369894</td>\n",
       "      <td>17/05/2023</td>\n",
       "    </tr>\n",
       "    <tr>\n",
       "      <th>2</th>\n",
       "      <td>hh, Phường Hoà Hải, Quận Ngũ Hành Sơn, Đà Nẵng</td>\n",
       "      <td>1,6 triệu/tháng</td>\n",
       "      <td>30 m²</td>\n",
       "      <td>25365389</td>\n",
       "      <td>17/05/2023</td>\n",
       "      <td>NaN</td>\n",
       "      <td>NaN</td>\n",
       "    </tr>\n",
       "    <tr>\n",
       "      <th>3</th>\n",
       "      <td>Đường 2 Tháng 9, Phường Hòa Cường Nam, Quận Hả...</td>\n",
       "      <td>2,8 triệu/tháng</td>\n",
       "      <td>25 m²</td>\n",
       "      <td>25362876</td>\n",
       "      <td>17/05/2023</td>\n",
       "      <td>NaN</td>\n",
       "      <td>NaN</td>\n",
       "    </tr>\n",
       "    <tr>\n",
       "      <th>4</th>\n",
       "      <td>Đường 2 Tháng 9, Phường Hòa Cường Nam, Quận Hả...</td>\n",
       "      <td>3,1 triệu/tháng</td>\n",
       "      <td>23 m²</td>\n",
       "      <td>25362939</td>\n",
       "      <td>17/05/2023</td>\n",
       "      <td>NaN</td>\n",
       "      <td>NaN</td>\n",
       "    </tr>\n",
       "    <tr>\n",
       "      <th>5</th>\n",
       "      <td>Đường Nguyễn Như Hạnh, Phường Hòa Minh, Quận L...</td>\n",
       "      <td>2,5 triệu/tháng</td>\n",
       "      <td>18 m²</td>\n",
       "      <td>25359540</td>\n",
       "      <td>17/05/2023</td>\n",
       "      <td>NaN</td>\n",
       "      <td>NaN</td>\n",
       "    </tr>\n",
       "    <tr>\n",
       "      <th>6</th>\n",
       "      <td>Đường Trần Đăng, Phường Hòa Minh, Quận Liên Ch...</td>\n",
       "      <td>3 triệu/tháng</td>\n",
       "      <td>25 m²</td>\n",
       "      <td>25358471</td>\n",
       "      <td>16/05/2023</td>\n",
       "      <td>NaN</td>\n",
       "      <td>NaN</td>\n",
       "    </tr>\n",
       "    <tr>\n",
       "      <th>7</th>\n",
       "      <td>66, Đường Nguyễn Huy Tưởng, Phường Hòa Minh, Q...</td>\n",
       "      <td>1,5 triệu/tháng</td>\n",
       "      <td>30 m²</td>\n",
       "      <td>25357450</td>\n",
       "      <td>16/05/2023</td>\n",
       "      <td>NaN</td>\n",
       "      <td>NaN</td>\n",
       "    </tr>\n",
       "    <tr>\n",
       "      <th>8</th>\n",
       "      <td>Âu Cơ, Phường Hòa Khánh Nam, Quận Liên Chiểu, ...</td>\n",
       "      <td>3,5 triệu/tháng</td>\n",
       "      <td>54 m²</td>\n",
       "      <td>25357498</td>\n",
       "      <td>16/05/2023</td>\n",
       "      <td>NaN</td>\n",
       "      <td>NaN</td>\n",
       "    </tr>\n",
       "    <tr>\n",
       "      <th>9</th>\n",
       "      <td>Đường Ông Ích Khiêm, Phường Hải Châu II, Quận ...</td>\n",
       "      <td>2,6 triệu/tháng</td>\n",
       "      <td>30 m²</td>\n",
       "      <td>25356180</td>\n",
       "      <td>16/05/2023</td>\n",
       "      <td>NaN</td>\n",
       "      <td>NaN</td>\n",
       "    </tr>\n",
       "  </tbody>\n",
       "</table>\n",
       "</div>"
      ],
      "text/plain": [
       "                                            Location        Feature 1  \\\n",
       "0                                      Lê Thanh Nghị   20 triệu/tháng   \n",
       "1                                       Ngô Thị Liễu   12 triệu/tháng   \n",
       "2     hh, Phường Hoà Hải, Quận Ngũ Hành Sơn, Đà Nẵng  1,6 triệu/tháng   \n",
       "3  Đường 2 Tháng 9, Phường Hòa Cường Nam, Quận Hả...  2,8 triệu/tháng   \n",
       "4  Đường 2 Tháng 9, Phường Hòa Cường Nam, Quận Hả...  3,1 triệu/tháng   \n",
       "5  Đường Nguyễn Như Hạnh, Phường Hòa Minh, Quận L...  2,5 triệu/tháng   \n",
       "6  Đường Trần Đăng, Phường Hòa Minh, Quận Liên Ch...    3 triệu/tháng   \n",
       "7  66, Đường Nguyễn Huy Tưởng, Phường Hòa Minh, Q...  1,5 triệu/tháng   \n",
       "8  Âu Cơ, Phường Hòa Khánh Nam, Quận Liên Chiểu, ...  3,5 triệu/tháng   \n",
       "9  Đường Ông Ích Khiêm, Phường Hải Châu II, Quận ...  2,6 triệu/tháng   \n",
       "\n",
       "  Feature 2 Feature 3   Feature 4 Feature 5   Feature 6  \n",
       "0     70 m²      7 PN        4 PT  25370051  17/05/2023  \n",
       "1     90 m²      5 PN        3 PT  25369894  17/05/2023  \n",
       "2     30 m²  25365389  17/05/2023       NaN         NaN  \n",
       "3     25 m²  25362876  17/05/2023       NaN         NaN  \n",
       "4     23 m²  25362939  17/05/2023       NaN         NaN  \n",
       "5     18 m²  25359540  17/05/2023       NaN         NaN  \n",
       "6     25 m²  25358471  16/05/2023       NaN         NaN  \n",
       "7     30 m²  25357450  16/05/2023       NaN         NaN  \n",
       "8     54 m²  25357498  16/05/2023       NaN         NaN  \n",
       "9     30 m²  25356180  16/05/2023       NaN         NaN  "
      ]
     },
     "execution_count": 5,
     "metadata": {},
     "output_type": "execute_result"
    }
   ],
   "source": [
    "dataset = pd.DataFrame(house_infos)\n",
    "dataset"
   ]
  }
 ],
 "metadata": {
  "kernelspec": {
   "display_name": "base",
   "language": "python",
   "name": "python3"
  },
  "language_info": {
   "codemirror_mode": {
    "name": "ipython",
    "version": 3
   },
   "file_extension": ".py",
   "mimetype": "text/x-python",
   "name": "python",
   "nbconvert_exporter": "python",
   "pygments_lexer": "ipython3",
   "version": "3.10.9"
  },
  "orig_nbformat": 4
 },
 "nbformat": 4,
 "nbformat_minor": 2
}
